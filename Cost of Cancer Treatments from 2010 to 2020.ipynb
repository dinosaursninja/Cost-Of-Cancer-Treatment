{
 "cells": [
  {
   "cell_type": "markdown",
   "metadata": {},
   "source": [
    "import pandas"
   ]
  },
  {
   "cell_type": "code",
   "execution_count": 3,
   "metadata": {},
   "outputs": [],
   "source": [
    "import pandas as pd "
   ]
  },
  {
   "cell_type": "markdown",
   "metadata": {},
   "source": [
    "Accepts my link as something useful"
   ]
  },
  {
   "cell_type": "code",
   "execution_count": 4,
   "metadata": {},
   "outputs": [],
   "source": [
    " from urllib.request import urlopen "
   ]
  },
  {
   "cell_type": "markdown",
   "metadata": {},
   "source": [
    "Store the link with the csv in a var"
   ]
  },
  {
   "cell_type": "code",
   "execution_count": 5,
   "metadata": {},
   "outputs": [],
   "source": [
    "data_url = \"https://gist.githubusercontent.com/dinosaursninja/cae83a39276ecf50d5c137e3a849fb09/raw/f091c3ac8b71914b79acc8064f935b61ab8eb0cf/Cost%2520of%2520Cancer%2520Treatments%25202010%2520to%25202020\""
   ]
  },
  {
   "cell_type": "markdown",
   "metadata": {},
   "source": [
    "Store url in an object"
   ]
  },
  {
   "cell_type": "code",
   "execution_count": 6,
   "metadata": {},
   "outputs": [],
   "source": [
    "data = urlopen(data_url) "
   ]
  },
  {
   "cell_type": "markdown",
   "metadata": {},
   "source": [
    "Upload that data as a dataframe and store in variable called df\n"
   ]
  },
  {
   "cell_type": "code",
   "execution_count": 7,
   "metadata": {},
   "outputs": [],
   "source": [
    "df = pd.read_csv(data) "
   ]
  },
  {
   "cell_type": "markdown",
   "metadata": {},
   "source": [
    "Show the data type for each column in the data set "
   ]
  },
  {
   "cell_type": "code",
   "execution_count": 8,
   "metadata": {},
   "outputs": [
    {
     "data": {
      "text/plain": [
       "Cancer Site                                                   object\n",
       "Year                                                           int64\n",
       "Sex                                                           object\n",
       "Age                                                           object\n",
       "Incidence and Survival Assumptions                            object\n",
       "Annual Cost Increase (applied to initial and last phases)     object\n",
       "Total Costs                                                  float64\n",
       "Initial Year After Diagnosis Cost                            float64\n",
       "Continuing Phase Cost                                        float64\n",
       "Last Year of Life Cost                                       float64\n",
       "dtype: object"
      ]
     },
     "execution_count": 8,
     "metadata": {},
     "output_type": "execute_result"
    }
   ],
   "source": [
    "df.dtypes"
   ]
  },
  {
   "cell_type": "markdown",
   "metadata": {},
   "source": [
    "Show the header of the dataset"
   ]
  },
  {
   "cell_type": "code",
   "execution_count": 9,
   "metadata": {},
   "outputs": [
    {
     "data": {
      "text/html": [
       "<div>\n",
       "<style scoped>\n",
       "    .dataframe tbody tr th:only-of-type {\n",
       "        vertical-align: middle;\n",
       "    }\n",
       "\n",
       "    .dataframe tbody tr th {\n",
       "        vertical-align: top;\n",
       "    }\n",
       "\n",
       "    .dataframe thead th {\n",
       "        text-align: right;\n",
       "    }\n",
       "</style>\n",
       "<table border=\"1\" class=\"dataframe\">\n",
       "  <thead>\n",
       "    <tr style=\"text-align: right;\">\n",
       "      <th></th>\n",
       "      <th>Cancer Site</th>\n",
       "      <th>Year</th>\n",
       "      <th>Sex</th>\n",
       "      <th>Age</th>\n",
       "      <th>Incidence and Survival Assumptions</th>\n",
       "      <th>Annual Cost Increase (applied to initial and last phases)</th>\n",
       "      <th>Total Costs</th>\n",
       "      <th>Initial Year After Diagnosis Cost</th>\n",
       "      <th>Continuing Phase Cost</th>\n",
       "      <th>Last Year of Life Cost</th>\n",
       "    </tr>\n",
       "  </thead>\n",
       "  <tbody>\n",
       "    <tr>\n",
       "      <th>0</th>\n",
       "      <td>AllSites</td>\n",
       "      <td>2010</td>\n",
       "      <td>Both sexes</td>\n",
       "      <td>All ages</td>\n",
       "      <td>Incidence/Survival at constant rate</td>\n",
       "      <td>0%</td>\n",
       "      <td>124565.6</td>\n",
       "      <td>40463.5</td>\n",
       "      <td>46642.8</td>\n",
       "      <td>37459.2</td>\n",
       "    </tr>\n",
       "    <tr>\n",
       "      <th>1</th>\n",
       "      <td>AllSites</td>\n",
       "      <td>2010</td>\n",
       "      <td>Both sexes</td>\n",
       "      <td>All ages</td>\n",
       "      <td>Incidence follows recent trend/Survival constant</td>\n",
       "      <td>0%</td>\n",
       "      <td>122420.8</td>\n",
       "      <td>38552.7</td>\n",
       "      <td>46671.9</td>\n",
       "      <td>37196.3</td>\n",
       "    </tr>\n",
       "    <tr>\n",
       "      <th>2</th>\n",
       "      <td>AllSites</td>\n",
       "      <td>2010</td>\n",
       "      <td>Both sexes</td>\n",
       "      <td>All ages</td>\n",
       "      <td>Survival follows recent trend/Incidence constant</td>\n",
       "      <td>0%</td>\n",
       "      <td>125397.7</td>\n",
       "      <td>40463.5</td>\n",
       "      <td>47136.3</td>\n",
       "      <td>37797.9</td>\n",
       "    </tr>\n",
       "    <tr>\n",
       "      <th>3</th>\n",
       "      <td>AllSites</td>\n",
       "      <td>2010</td>\n",
       "      <td>Both sexes</td>\n",
       "      <td>All ages</td>\n",
       "      <td>Incidence/Survival follow recent trends</td>\n",
       "      <td>0%</td>\n",
       "      <td>123236.3</td>\n",
       "      <td>38552.7</td>\n",
       "      <td>47155.7</td>\n",
       "      <td>37527.8</td>\n",
       "    </tr>\n",
       "    <tr>\n",
       "      <th>4</th>\n",
       "      <td>AllSites</td>\n",
       "      <td>2010</td>\n",
       "      <td>Both sexes</td>\n",
       "      <td>All ages</td>\n",
       "      <td>Incidence/Survival follow recent trends</td>\n",
       "      <td>2%</td>\n",
       "      <td>123236.3</td>\n",
       "      <td>38552.7</td>\n",
       "      <td>47155.7</td>\n",
       "      <td>37527.8</td>\n",
       "    </tr>\n",
       "  </tbody>\n",
       "</table>\n",
       "</div>"
      ],
      "text/plain": [
       "  Cancer Site  Year         Sex       Age  \\\n",
       "0    AllSites  2010  Both sexes  All ages   \n",
       "1    AllSites  2010  Both sexes  All ages   \n",
       "2    AllSites  2010  Both sexes  All ages   \n",
       "3    AllSites  2010  Both sexes  All ages   \n",
       "4    AllSites  2010  Both sexes  All ages   \n",
       "\n",
       "                 Incidence and Survival Assumptions  \\\n",
       "0               Incidence/Survival at constant rate   \n",
       "1  Incidence follows recent trend/Survival constant   \n",
       "2  Survival follows recent trend/Incidence constant   \n",
       "3           Incidence/Survival follow recent trends   \n",
       "4           Incidence/Survival follow recent trends   \n",
       "\n",
       "  Annual Cost Increase (applied to initial and last phases)  Total Costs  \\\n",
       "0                                                 0%            124565.6   \n",
       "1                                                 0%            122420.8   \n",
       "2                                                 0%            125397.7   \n",
       "3                                                 0%            123236.3   \n",
       "4                                                 2%            123236.3   \n",
       "\n",
       "   Initial Year After Diagnosis Cost  Continuing Phase Cost  \\\n",
       "0                            40463.5                46642.8   \n",
       "1                            38552.7                46671.9   \n",
       "2                            40463.5                47136.3   \n",
       "3                            38552.7                47155.7   \n",
       "4                            38552.7                47155.7   \n",
       "\n",
       "   Last Year of Life Cost  \n",
       "0                 37459.2  \n",
       "1                 37196.3  \n",
       "2                 37797.9  \n",
       "3                 37527.8  \n",
       "4                 37527.8  "
      ]
     },
     "execution_count": 9,
     "metadata": {},
     "output_type": "execute_result"
    }
   ],
   "source": [
    "df.head() "
   ]
  },
  {
   "cell_type": "markdown",
   "metadata": {},
   "source": [
    "Summarize"
   ]
  },
  {
   "cell_type": "code",
   "execution_count": 10,
   "metadata": {
    "scrolled": true
   },
   "outputs": [
    {
     "data": {
      "text/html": [
       "<div>\n",
       "<style scoped>\n",
       "    .dataframe tbody tr th:only-of-type {\n",
       "        vertical-align: middle;\n",
       "    }\n",
       "\n",
       "    .dataframe tbody tr th {\n",
       "        vertical-align: top;\n",
       "    }\n",
       "\n",
       "    .dataframe thead th {\n",
       "        text-align: right;\n",
       "    }\n",
       "</style>\n",
       "<table border=\"1\" class=\"dataframe\">\n",
       "  <thead>\n",
       "    <tr style=\"text-align: right;\">\n",
       "      <th></th>\n",
       "      <th>Year</th>\n",
       "      <th>Total Costs</th>\n",
       "      <th>Initial Year After Diagnosis Cost</th>\n",
       "      <th>Continuing Phase Cost</th>\n",
       "      <th>Last Year of Life Cost</th>\n",
       "    </tr>\n",
       "  </thead>\n",
       "  <tbody>\n",
       "    <tr>\n",
       "      <th>count</th>\n",
       "      <td>1254.000000</td>\n",
       "      <td>1254.000000</td>\n",
       "      <td>1254.000000</td>\n",
       "      <td>1254.000000</td>\n",
       "      <td>1254.000000</td>\n",
       "    </tr>\n",
       "    <tr>\n",
       "      <th>mean</th>\n",
       "      <td>2015.000000</td>\n",
       "      <td>15221.008852</td>\n",
       "      <td>4677.505742</td>\n",
       "      <td>5764.655024</td>\n",
       "      <td>4778.848804</td>\n",
       "    </tr>\n",
       "    <tr>\n",
       "      <th>std</th>\n",
       "      <td>3.163539</td>\n",
       "      <td>31489.503603</td>\n",
       "      <td>9703.258460</td>\n",
       "      <td>12094.699099</td>\n",
       "      <td>9930.281985</td>\n",
       "    </tr>\n",
       "    <tr>\n",
       "      <th>min</th>\n",
       "      <td>2010.000000</td>\n",
       "      <td>1204.600000</td>\n",
       "      <td>293.000000</td>\n",
       "      <td>98.900000</td>\n",
       "      <td>330.600000</td>\n",
       "    </tr>\n",
       "    <tr>\n",
       "      <th>25%</th>\n",
       "      <td>2012.000000</td>\n",
       "      <td>2866.625000</td>\n",
       "      <td>939.175000</td>\n",
       "      <td>846.875000</td>\n",
       "      <td>908.925000</td>\n",
       "    </tr>\n",
       "    <tr>\n",
       "      <th>50%</th>\n",
       "      <td>2015.000000</td>\n",
       "      <td>5107.350000</td>\n",
       "      <td>1377.150000</td>\n",
       "      <td>1940.350000</td>\n",
       "      <td>1755.200000</td>\n",
       "    </tr>\n",
       "    <tr>\n",
       "      <th>75%</th>\n",
       "      <td>2018.000000</td>\n",
       "      <td>14178.925000</td>\n",
       "      <td>4883.050000</td>\n",
       "      <td>5187.200000</td>\n",
       "      <td>4465.275000</td>\n",
       "    </tr>\n",
       "    <tr>\n",
       "      <th>max</th>\n",
       "      <td>2020.000000</td>\n",
       "      <td>206587.100000</td>\n",
       "      <td>68858.000000</td>\n",
       "      <td>66099.700000</td>\n",
       "      <td>74159.700000</td>\n",
       "    </tr>\n",
       "  </tbody>\n",
       "</table>\n",
       "</div>"
      ],
      "text/plain": [
       "              Year    Total Costs  Initial Year After Diagnosis Cost  \\\n",
       "count  1254.000000    1254.000000                        1254.000000   \n",
       "mean   2015.000000   15221.008852                        4677.505742   \n",
       "std       3.163539   31489.503603                        9703.258460   \n",
       "min    2010.000000    1204.600000                         293.000000   \n",
       "25%    2012.000000    2866.625000                         939.175000   \n",
       "50%    2015.000000    5107.350000                        1377.150000   \n",
       "75%    2018.000000   14178.925000                        4883.050000   \n",
       "max    2020.000000  206587.100000                       68858.000000   \n",
       "\n",
       "       Continuing Phase Cost  Last Year of Life Cost  \n",
       "count            1254.000000             1254.000000  \n",
       "mean             5764.655024             4778.848804  \n",
       "std             12094.699099             9930.281985  \n",
       "min                98.900000              330.600000  \n",
       "25%               846.875000              908.925000  \n",
       "50%              1940.350000             1755.200000  \n",
       "75%              5187.200000             4465.275000  \n",
       "max             66099.700000            74159.700000  "
      ]
     },
     "execution_count": 10,
     "metadata": {},
     "output_type": "execute_result"
    }
   ],
   "source": [
    "df.describe() "
   ]
  },
  {
   "cell_type": "markdown",
   "metadata": {},
   "source": [
    "### Explain your dataset and what you would like to do with it.\n",
    "Long term, I would like to group the cancer by types and see how the cost of treatment compares amongst the groups.\n",
    "\n",
    "Short term for this assignment I would like to compare the standard deviation for the three columns (initial cost, contuinuing cost and last year of life) to see how the phases compare from one phase to another in terms of cost."
   ]
  },
  {
   "cell_type": "markdown",
   "metadata": {},
   "source": [
    "### Add a new Column : \n",
    "The column added is the standard deviation (std)\n",
    "for intial cost, continuing phase cost and final year of life cost.\n"
   ]
  },
  {
   "cell_type": "markdown",
   "metadata": {},
   "source": [
    "STD tells us the variability, or spread, of a distribution. \n",
    "How spread out the data is. It is a measure of how far each observed value is from the mean.\n"
   ]
  },
  {
   "cell_type": "code",
   "execution_count": 11,
   "metadata": {},
   "outputs": [
    {
     "name": "stdout",
     "output_type": "stream",
     "text": [
      "The standard deviation for the column 'Continuing Phase Cost' is:  12094.699098688146\n"
     ]
    }
   ],
   "source": [
    "#print(\"The standard deviation for column 'Continuing Phase Cost' is: \")\n",
    "print(\"The standard deviation for the column 'Continuing Phase Cost' is: \", df['Continuing Phase Cost'].std())\n"
   ]
  },
  {
   "cell_type": "code",
   "execution_count": 12,
   "metadata": {},
   "outputs": [
    {
     "name": "stdout",
     "output_type": "stream",
     "text": [
      "Index(['Cancer Site', 'Year', 'Sex', 'Age',\n",
      "       'Incidence and Survival Assumptions',\n",
      "       'Annual Cost Increase (applied to initial and last phases)',\n",
      "       'Total Costs', 'Initial Year After Diagnosis Cost',\n",
      "       'Continuing Phase Cost', 'Last Year of Life Cost'],\n",
      "      dtype='object')\n"
     ]
    }
   ],
   "source": [
    "print(df.columns)"
   ]
  },
  {
   "cell_type": "markdown",
   "metadata": {},
   "source": [
    "iloc: Isolates the target columns by indexing by number instead of letters. The axis = 1, specifies that it is the columns not rows that you are extracting/isolating."
   ]
  },
  {
   "cell_type": "code",
   "execution_count": 13,
   "metadata": {},
   "outputs": [
    {
     "data": {
      "text/plain": [
       "0       4682.379665\n",
       "1       5124.259702\n",
       "2       4810.360308\n",
       "3       5287.697789\n",
       "4       5287.697789\n",
       "           ...     \n",
       "1249    4892.094920\n",
       "1250    6864.061310\n",
       "1251    6493.607914\n",
       "1252    5955.006260\n",
       "1253    5047.996289\n",
       "Length: 1254, dtype: float64"
      ]
     },
     "execution_count": 13,
     "metadata": {},
     "output_type": "execute_result"
    }
   ],
   "source": [
    "df.iloc[:,[-3,-2,-1]].std(axis=1) "
   ]
  },
  {
   "cell_type": "markdown",
   "metadata": {},
   "source": [
    "Store the values you have isolated into the specified column. In this case the Column is being defined simultanously. \n"
   ]
  },
  {
   "cell_type": "code",
   "execution_count": 14,
   "metadata": {},
   "outputs": [],
   "source": [
    "df['Standard Deviation for all Initial, Continuing, and Last year'] = df.iloc[:,[-3,-2,-1]].std(axis=1) "
   ]
  },
  {
   "cell_type": "code",
   "execution_count": 15,
   "metadata": {},
   "outputs": [
    {
     "data": {
      "text/html": [
       "<div>\n",
       "<style scoped>\n",
       "    .dataframe tbody tr th:only-of-type {\n",
       "        vertical-align: middle;\n",
       "    }\n",
       "\n",
       "    .dataframe tbody tr th {\n",
       "        vertical-align: top;\n",
       "    }\n",
       "\n",
       "    .dataframe thead th {\n",
       "        text-align: right;\n",
       "    }\n",
       "</style>\n",
       "<table border=\"1\" class=\"dataframe\">\n",
       "  <thead>\n",
       "    <tr style=\"text-align: right;\">\n",
       "      <th></th>\n",
       "      <th>Year</th>\n",
       "      <th>Total Costs</th>\n",
       "      <th>Initial Year After Diagnosis Cost</th>\n",
       "      <th>Continuing Phase Cost</th>\n",
       "      <th>Last Year of Life Cost</th>\n",
       "      <th>Standard Deviation for all Initial, Continuing, and Last year</th>\n",
       "    </tr>\n",
       "  </thead>\n",
       "  <tbody>\n",
       "    <tr>\n",
       "      <th>count</th>\n",
       "      <td>1254.000000</td>\n",
       "      <td>1254.000000</td>\n",
       "      <td>1254.000000</td>\n",
       "      <td>1254.000000</td>\n",
       "      <td>1254.000000</td>\n",
       "      <td>1254.000000</td>\n",
       "    </tr>\n",
       "    <tr>\n",
       "      <th>mean</th>\n",
       "      <td>2015.000000</td>\n",
       "      <td>15221.008852</td>\n",
       "      <td>4677.505742</td>\n",
       "      <td>5764.655024</td>\n",
       "      <td>4778.848804</td>\n",
       "      <td>1369.796157</td>\n",
       "    </tr>\n",
       "    <tr>\n",
       "      <th>std</th>\n",
       "      <td>3.163539</td>\n",
       "      <td>31489.503603</td>\n",
       "      <td>9703.258460</td>\n",
       "      <td>12094.699099</td>\n",
       "      <td>9930.281985</td>\n",
       "      <td>1655.607430</td>\n",
       "    </tr>\n",
       "    <tr>\n",
       "      <th>min</th>\n",
       "      <td>2010.000000</td>\n",
       "      <td>1204.600000</td>\n",
       "      <td>293.000000</td>\n",
       "      <td>98.900000</td>\n",
       "      <td>330.600000</td>\n",
       "      <td>132.721111</td>\n",
       "    </tr>\n",
       "    <tr>\n",
       "      <th>25%</th>\n",
       "      <td>2012.000000</td>\n",
       "      <td>2866.625000</td>\n",
       "      <td>939.175000</td>\n",
       "      <td>846.875000</td>\n",
       "      <td>908.925000</td>\n",
       "      <td>355.310762</td>\n",
       "    </tr>\n",
       "    <tr>\n",
       "      <th>50%</th>\n",
       "      <td>2015.000000</td>\n",
       "      <td>5107.350000</td>\n",
       "      <td>1377.150000</td>\n",
       "      <td>1940.350000</td>\n",
       "      <td>1755.200000</td>\n",
       "      <td>731.501188</td>\n",
       "    </tr>\n",
       "    <tr>\n",
       "      <th>75%</th>\n",
       "      <td>2018.000000</td>\n",
       "      <td>14178.925000</td>\n",
       "      <td>4883.050000</td>\n",
       "      <td>5187.200000</td>\n",
       "      <td>4465.275000</td>\n",
       "      <td>1565.791520</td>\n",
       "    </tr>\n",
       "    <tr>\n",
       "      <th>max</th>\n",
       "      <td>2020.000000</td>\n",
       "      <td>206587.100000</td>\n",
       "      <td>68858.000000</td>\n",
       "      <td>66099.700000</td>\n",
       "      <td>74159.700000</td>\n",
       "      <td>10904.125117</td>\n",
       "    </tr>\n",
       "  </tbody>\n",
       "</table>\n",
       "</div>"
      ],
      "text/plain": [
       "              Year    Total Costs  Initial Year After Diagnosis Cost  \\\n",
       "count  1254.000000    1254.000000                        1254.000000   \n",
       "mean   2015.000000   15221.008852                        4677.505742   \n",
       "std       3.163539   31489.503603                        9703.258460   \n",
       "min    2010.000000    1204.600000                         293.000000   \n",
       "25%    2012.000000    2866.625000                         939.175000   \n",
       "50%    2015.000000    5107.350000                        1377.150000   \n",
       "75%    2018.000000   14178.925000                        4883.050000   \n",
       "max    2020.000000  206587.100000                       68858.000000   \n",
       "\n",
       "       Continuing Phase Cost  Last Year of Life Cost  \\\n",
       "count            1254.000000             1254.000000   \n",
       "mean             5764.655024             4778.848804   \n",
       "std             12094.699099             9930.281985   \n",
       "min                98.900000              330.600000   \n",
       "25%               846.875000              908.925000   \n",
       "50%              1940.350000             1755.200000   \n",
       "75%              5187.200000             4465.275000   \n",
       "max             66099.700000            74159.700000   \n",
       "\n",
       "       Standard Deviation for all Initial, Continuing, and Last year  \n",
       "count                                        1254.000000              \n",
       "mean                                         1369.796157              \n",
       "std                                          1655.607430              \n",
       "min                                           132.721111              \n",
       "25%                                           355.310762              \n",
       "50%                                           731.501188              \n",
       "75%                                          1565.791520              \n",
       "max                                         10904.125117              "
      ]
     },
     "execution_count": 15,
     "metadata": {},
     "output_type": "execute_result"
    }
   ],
   "source": [
    "df.describe()"
   ]
  },
  {
   "cell_type": "code",
   "execution_count": 16,
   "metadata": {},
   "outputs": [
    {
     "data": {
      "text/html": [
       "<div>\n",
       "<style scoped>\n",
       "    .dataframe tbody tr th:only-of-type {\n",
       "        vertical-align: middle;\n",
       "    }\n",
       "\n",
       "    .dataframe tbody tr th {\n",
       "        vertical-align: top;\n",
       "    }\n",
       "\n",
       "    .dataframe thead th {\n",
       "        text-align: right;\n",
       "    }\n",
       "</style>\n",
       "<table border=\"1\" class=\"dataframe\">\n",
       "  <thead>\n",
       "    <tr style=\"text-align: right;\">\n",
       "      <th></th>\n",
       "      <th>Cancer Site</th>\n",
       "      <th>Year</th>\n",
       "      <th>Sex</th>\n",
       "      <th>Age</th>\n",
       "      <th>Incidence and Survival Assumptions</th>\n",
       "      <th>Annual Cost Increase (applied to initial and last phases)</th>\n",
       "      <th>Total Costs</th>\n",
       "      <th>Initial Year After Diagnosis Cost</th>\n",
       "      <th>Continuing Phase Cost</th>\n",
       "      <th>Last Year of Life Cost</th>\n",
       "      <th>Standard Deviation for all Initial, Continuing, and Last year</th>\n",
       "    </tr>\n",
       "  </thead>\n",
       "  <tbody>\n",
       "    <tr>\n",
       "      <th>0</th>\n",
       "      <td>AllSites</td>\n",
       "      <td>2010</td>\n",
       "      <td>Both sexes</td>\n",
       "      <td>All ages</td>\n",
       "      <td>Incidence/Survival at constant rate</td>\n",
       "      <td>0%</td>\n",
       "      <td>124565.6</td>\n",
       "      <td>40463.5</td>\n",
       "      <td>46642.8</td>\n",
       "      <td>37459.2</td>\n",
       "      <td>4682.379665</td>\n",
       "    </tr>\n",
       "    <tr>\n",
       "      <th>1</th>\n",
       "      <td>AllSites</td>\n",
       "      <td>2010</td>\n",
       "      <td>Both sexes</td>\n",
       "      <td>All ages</td>\n",
       "      <td>Incidence follows recent trend/Survival constant</td>\n",
       "      <td>0%</td>\n",
       "      <td>122420.8</td>\n",
       "      <td>38552.7</td>\n",
       "      <td>46671.9</td>\n",
       "      <td>37196.3</td>\n",
       "      <td>5124.259702</td>\n",
       "    </tr>\n",
       "    <tr>\n",
       "      <th>2</th>\n",
       "      <td>AllSites</td>\n",
       "      <td>2010</td>\n",
       "      <td>Both sexes</td>\n",
       "      <td>All ages</td>\n",
       "      <td>Survival follows recent trend/Incidence constant</td>\n",
       "      <td>0%</td>\n",
       "      <td>125397.7</td>\n",
       "      <td>40463.5</td>\n",
       "      <td>47136.3</td>\n",
       "      <td>37797.9</td>\n",
       "      <td>4810.360308</td>\n",
       "    </tr>\n",
       "    <tr>\n",
       "      <th>3</th>\n",
       "      <td>AllSites</td>\n",
       "      <td>2010</td>\n",
       "      <td>Both sexes</td>\n",
       "      <td>All ages</td>\n",
       "      <td>Incidence/Survival follow recent trends</td>\n",
       "      <td>0%</td>\n",
       "      <td>123236.3</td>\n",
       "      <td>38552.7</td>\n",
       "      <td>47155.7</td>\n",
       "      <td>37527.8</td>\n",
       "      <td>5287.697789</td>\n",
       "    </tr>\n",
       "    <tr>\n",
       "      <th>4</th>\n",
       "      <td>AllSites</td>\n",
       "      <td>2010</td>\n",
       "      <td>Both sexes</td>\n",
       "      <td>All ages</td>\n",
       "      <td>Incidence/Survival follow recent trends</td>\n",
       "      <td>2%</td>\n",
       "      <td>123236.3</td>\n",
       "      <td>38552.7</td>\n",
       "      <td>47155.7</td>\n",
       "      <td>37527.8</td>\n",
       "      <td>5287.697789</td>\n",
       "    </tr>\n",
       "  </tbody>\n",
       "</table>\n",
       "</div>"
      ],
      "text/plain": [
       "  Cancer Site  Year         Sex       Age  \\\n",
       "0    AllSites  2010  Both sexes  All ages   \n",
       "1    AllSites  2010  Both sexes  All ages   \n",
       "2    AllSites  2010  Both sexes  All ages   \n",
       "3    AllSites  2010  Both sexes  All ages   \n",
       "4    AllSites  2010  Both sexes  All ages   \n",
       "\n",
       "                 Incidence and Survival Assumptions  \\\n",
       "0               Incidence/Survival at constant rate   \n",
       "1  Incidence follows recent trend/Survival constant   \n",
       "2  Survival follows recent trend/Incidence constant   \n",
       "3           Incidence/Survival follow recent trends   \n",
       "4           Incidence/Survival follow recent trends   \n",
       "\n",
       "  Annual Cost Increase (applied to initial and last phases)  Total Costs  \\\n",
       "0                                                 0%            124565.6   \n",
       "1                                                 0%            122420.8   \n",
       "2                                                 0%            125397.7   \n",
       "3                                                 0%            123236.3   \n",
       "4                                                 2%            123236.3   \n",
       "\n",
       "   Initial Year After Diagnosis Cost  Continuing Phase Cost  \\\n",
       "0                            40463.5                46642.8   \n",
       "1                            38552.7                46671.9   \n",
       "2                            40463.5                47136.3   \n",
       "3                            38552.7                47155.7   \n",
       "4                            38552.7                47155.7   \n",
       "\n",
       "   Last Year of Life Cost  \\\n",
       "0                 37459.2   \n",
       "1                 37196.3   \n",
       "2                 37797.9   \n",
       "3                 37527.8   \n",
       "4                 37527.8   \n",
       "\n",
       "   Standard Deviation for all Initial, Continuing, and Last year  \n",
       "0                                        4682.379665              \n",
       "1                                        5124.259702              \n",
       "2                                        4810.360308              \n",
       "3                                        5287.697789              \n",
       "4                                        5287.697789              "
      ]
     },
     "execution_count": 16,
     "metadata": {},
     "output_type": "execute_result"
    }
   ],
   "source": [
    "df.head()\n"
   ]
  },
  {
   "cell_type": "markdown",
   "metadata": {},
   "source": [
    "#### Run a filtering operation by using Dataframe row indexing using a comparison statement that yields a boolean array/matrix."
   ]
  },
  {
   "cell_type": "markdown",
   "metadata": {},
   "source": [
    "Returns true for treatments that cost more during initial phase than the last year of life && creates a new column for that data.\n"
   ]
  },
  {
   "cell_type": "code",
   "execution_count": 17,
   "metadata": {},
   "outputs": [],
   "source": [
    "df['Initial Cost Exceeds Last Year of Life'] = df['Initial Year After Diagnosis Cost'] > df['Last Year of Life Cost']"
   ]
  },
  {
   "cell_type": "code",
   "execution_count": 18,
   "metadata": {},
   "outputs": [
    {
     "data": {
      "text/html": [
       "<div>\n",
       "<style scoped>\n",
       "    .dataframe tbody tr th:only-of-type {\n",
       "        vertical-align: middle;\n",
       "    }\n",
       "\n",
       "    .dataframe tbody tr th {\n",
       "        vertical-align: top;\n",
       "    }\n",
       "\n",
       "    .dataframe thead th {\n",
       "        text-align: right;\n",
       "    }\n",
       "</style>\n",
       "<table border=\"1\" class=\"dataframe\">\n",
       "  <thead>\n",
       "    <tr style=\"text-align: right;\">\n",
       "      <th></th>\n",
       "      <th>Cancer Site</th>\n",
       "      <th>Year</th>\n",
       "      <th>Sex</th>\n",
       "      <th>Age</th>\n",
       "      <th>Incidence and Survival Assumptions</th>\n",
       "      <th>Annual Cost Increase (applied to initial and last phases)</th>\n",
       "      <th>Total Costs</th>\n",
       "      <th>Initial Year After Diagnosis Cost</th>\n",
       "      <th>Continuing Phase Cost</th>\n",
       "      <th>Last Year of Life Cost</th>\n",
       "      <th>Standard Deviation for all Initial, Continuing, and Last year</th>\n",
       "      <th>Initial Cost Exceeds Last Year of Life</th>\n",
       "    </tr>\n",
       "  </thead>\n",
       "  <tbody>\n",
       "    <tr>\n",
       "      <th>0</th>\n",
       "      <td>AllSites</td>\n",
       "      <td>2010</td>\n",
       "      <td>Both sexes</td>\n",
       "      <td>All ages</td>\n",
       "      <td>Incidence/Survival at constant rate</td>\n",
       "      <td>0%</td>\n",
       "      <td>124565.6</td>\n",
       "      <td>40463.5</td>\n",
       "      <td>46642.8</td>\n",
       "      <td>37459.2</td>\n",
       "      <td>4682.379665</td>\n",
       "      <td>True</td>\n",
       "    </tr>\n",
       "    <tr>\n",
       "      <th>1</th>\n",
       "      <td>AllSites</td>\n",
       "      <td>2010</td>\n",
       "      <td>Both sexes</td>\n",
       "      <td>All ages</td>\n",
       "      <td>Incidence follows recent trend/Survival constant</td>\n",
       "      <td>0%</td>\n",
       "      <td>122420.8</td>\n",
       "      <td>38552.7</td>\n",
       "      <td>46671.9</td>\n",
       "      <td>37196.3</td>\n",
       "      <td>5124.259702</td>\n",
       "      <td>True</td>\n",
       "    </tr>\n",
       "    <tr>\n",
       "      <th>2</th>\n",
       "      <td>AllSites</td>\n",
       "      <td>2010</td>\n",
       "      <td>Both sexes</td>\n",
       "      <td>All ages</td>\n",
       "      <td>Survival follows recent trend/Incidence constant</td>\n",
       "      <td>0%</td>\n",
       "      <td>125397.7</td>\n",
       "      <td>40463.5</td>\n",
       "      <td>47136.3</td>\n",
       "      <td>37797.9</td>\n",
       "      <td>4810.360308</td>\n",
       "      <td>True</td>\n",
       "    </tr>\n",
       "    <tr>\n",
       "      <th>3</th>\n",
       "      <td>AllSites</td>\n",
       "      <td>2010</td>\n",
       "      <td>Both sexes</td>\n",
       "      <td>All ages</td>\n",
       "      <td>Incidence/Survival follow recent trends</td>\n",
       "      <td>0%</td>\n",
       "      <td>123236.3</td>\n",
       "      <td>38552.7</td>\n",
       "      <td>47155.7</td>\n",
       "      <td>37527.8</td>\n",
       "      <td>5287.697789</td>\n",
       "      <td>True</td>\n",
       "    </tr>\n",
       "    <tr>\n",
       "      <th>4</th>\n",
       "      <td>AllSites</td>\n",
       "      <td>2010</td>\n",
       "      <td>Both sexes</td>\n",
       "      <td>All ages</td>\n",
       "      <td>Incidence/Survival follow recent trends</td>\n",
       "      <td>2%</td>\n",
       "      <td>123236.3</td>\n",
       "      <td>38552.7</td>\n",
       "      <td>47155.7</td>\n",
       "      <td>37527.8</td>\n",
       "      <td>5287.697789</td>\n",
       "      <td>True</td>\n",
       "    </tr>\n",
       "  </tbody>\n",
       "</table>\n",
       "</div>"
      ],
      "text/plain": [
       "  Cancer Site  Year         Sex       Age  \\\n",
       "0    AllSites  2010  Both sexes  All ages   \n",
       "1    AllSites  2010  Both sexes  All ages   \n",
       "2    AllSites  2010  Both sexes  All ages   \n",
       "3    AllSites  2010  Both sexes  All ages   \n",
       "4    AllSites  2010  Both sexes  All ages   \n",
       "\n",
       "                 Incidence and Survival Assumptions  \\\n",
       "0               Incidence/Survival at constant rate   \n",
       "1  Incidence follows recent trend/Survival constant   \n",
       "2  Survival follows recent trend/Incidence constant   \n",
       "3           Incidence/Survival follow recent trends   \n",
       "4           Incidence/Survival follow recent trends   \n",
       "\n",
       "  Annual Cost Increase (applied to initial and last phases)  Total Costs  \\\n",
       "0                                                 0%            124565.6   \n",
       "1                                                 0%            122420.8   \n",
       "2                                                 0%            125397.7   \n",
       "3                                                 0%            123236.3   \n",
       "4                                                 2%            123236.3   \n",
       "\n",
       "   Initial Year After Diagnosis Cost  Continuing Phase Cost  \\\n",
       "0                            40463.5                46642.8   \n",
       "1                            38552.7                46671.9   \n",
       "2                            40463.5                47136.3   \n",
       "3                            38552.7                47155.7   \n",
       "4                            38552.7                47155.7   \n",
       "\n",
       "   Last Year of Life Cost  \\\n",
       "0                 37459.2   \n",
       "1                 37196.3   \n",
       "2                 37797.9   \n",
       "3                 37527.8   \n",
       "4                 37527.8   \n",
       "\n",
       "   Standard Deviation for all Initial, Continuing, and Last year  \\\n",
       "0                                        4682.379665               \n",
       "1                                        5124.259702               \n",
       "2                                        4810.360308               \n",
       "3                                        5287.697789               \n",
       "4                                        5287.697789               \n",
       "\n",
       "   Initial Cost Exceeds Last Year of Life  \n",
       "0                                    True  \n",
       "1                                    True  \n",
       "2                                    True  \n",
       "3                                    True  \n",
       "4                                    True  "
      ]
     },
     "execution_count": 18,
     "metadata": {},
     "output_type": "execute_result"
    }
   ],
   "source": [
    "df.head()"
   ]
  },
  {
   "cell_type": "markdown",
   "metadata": {},
   "source": [
    "#### Change the index of your dataset using the set_index method to one of your columns and display the resulting table: "
   ]
  },
  {
   "cell_type": "markdown",
   "metadata": {},
   "source": [
    "Change the index of your dataset using the set_index method to one of your columns and display the resulting table.\n"
   ]
  },
  {
   "cell_type": "code",
   "execution_count": 19,
   "metadata": {},
   "outputs": [],
   "source": [
    "df.set_index('Cancer Site', inplace=True)"
   ]
  },
  {
   "cell_type": "code",
   "execution_count": 20,
   "metadata": {},
   "outputs": [
    {
     "data": {
      "text/html": [
       "<div>\n",
       "<style scoped>\n",
       "    .dataframe tbody tr th:only-of-type {\n",
       "        vertical-align: middle;\n",
       "    }\n",
       "\n",
       "    .dataframe tbody tr th {\n",
       "        vertical-align: top;\n",
       "    }\n",
       "\n",
       "    .dataframe thead th {\n",
       "        text-align: right;\n",
       "    }\n",
       "</style>\n",
       "<table border=\"1\" class=\"dataframe\">\n",
       "  <thead>\n",
       "    <tr style=\"text-align: right;\">\n",
       "      <th></th>\n",
       "      <th>Year</th>\n",
       "      <th>Sex</th>\n",
       "      <th>Age</th>\n",
       "      <th>Incidence and Survival Assumptions</th>\n",
       "      <th>Annual Cost Increase (applied to initial and last phases)</th>\n",
       "      <th>Total Costs</th>\n",
       "      <th>Initial Year After Diagnosis Cost</th>\n",
       "      <th>Continuing Phase Cost</th>\n",
       "      <th>Last Year of Life Cost</th>\n",
       "      <th>Standard Deviation for all Initial, Continuing, and Last year</th>\n",
       "      <th>Initial Cost Exceeds Last Year of Life</th>\n",
       "    </tr>\n",
       "    <tr>\n",
       "      <th>Cancer Site</th>\n",
       "      <th></th>\n",
       "      <th></th>\n",
       "      <th></th>\n",
       "      <th></th>\n",
       "      <th></th>\n",
       "      <th></th>\n",
       "      <th></th>\n",
       "      <th></th>\n",
       "      <th></th>\n",
       "      <th></th>\n",
       "      <th></th>\n",
       "    </tr>\n",
       "  </thead>\n",
       "  <tbody>\n",
       "    <tr>\n",
       "      <th>AllSites</th>\n",
       "      <td>2010</td>\n",
       "      <td>Both sexes</td>\n",
       "      <td>All ages</td>\n",
       "      <td>Incidence/Survival at constant rate</td>\n",
       "      <td>0%</td>\n",
       "      <td>124565.6</td>\n",
       "      <td>40463.5</td>\n",
       "      <td>46642.8</td>\n",
       "      <td>37459.2</td>\n",
       "      <td>4682.379665</td>\n",
       "      <td>True</td>\n",
       "    </tr>\n",
       "    <tr>\n",
       "      <th>AllSites</th>\n",
       "      <td>2010</td>\n",
       "      <td>Both sexes</td>\n",
       "      <td>All ages</td>\n",
       "      <td>Incidence follows recent trend/Survival constant</td>\n",
       "      <td>0%</td>\n",
       "      <td>122420.8</td>\n",
       "      <td>38552.7</td>\n",
       "      <td>46671.9</td>\n",
       "      <td>37196.3</td>\n",
       "      <td>5124.259702</td>\n",
       "      <td>True</td>\n",
       "    </tr>\n",
       "    <tr>\n",
       "      <th>AllSites</th>\n",
       "      <td>2010</td>\n",
       "      <td>Both sexes</td>\n",
       "      <td>All ages</td>\n",
       "      <td>Survival follows recent trend/Incidence constant</td>\n",
       "      <td>0%</td>\n",
       "      <td>125397.7</td>\n",
       "      <td>40463.5</td>\n",
       "      <td>47136.3</td>\n",
       "      <td>37797.9</td>\n",
       "      <td>4810.360308</td>\n",
       "      <td>True</td>\n",
       "    </tr>\n",
       "    <tr>\n",
       "      <th>AllSites</th>\n",
       "      <td>2010</td>\n",
       "      <td>Both sexes</td>\n",
       "      <td>All ages</td>\n",
       "      <td>Incidence/Survival follow recent trends</td>\n",
       "      <td>0%</td>\n",
       "      <td>123236.3</td>\n",
       "      <td>38552.7</td>\n",
       "      <td>47155.7</td>\n",
       "      <td>37527.8</td>\n",
       "      <td>5287.697789</td>\n",
       "      <td>True</td>\n",
       "    </tr>\n",
       "    <tr>\n",
       "      <th>AllSites</th>\n",
       "      <td>2010</td>\n",
       "      <td>Both sexes</td>\n",
       "      <td>All ages</td>\n",
       "      <td>Incidence/Survival follow recent trends</td>\n",
       "      <td>2%</td>\n",
       "      <td>123236.3</td>\n",
       "      <td>38552.7</td>\n",
       "      <td>47155.7</td>\n",
       "      <td>37527.8</td>\n",
       "      <td>5287.697789</td>\n",
       "      <td>True</td>\n",
       "    </tr>\n",
       "  </tbody>\n",
       "</table>\n",
       "</div>"
      ],
      "text/plain": [
       "             Year         Sex       Age  \\\n",
       "Cancer Site                               \n",
       "AllSites     2010  Both sexes  All ages   \n",
       "AllSites     2010  Both sexes  All ages   \n",
       "AllSites     2010  Both sexes  All ages   \n",
       "AllSites     2010  Both sexes  All ages   \n",
       "AllSites     2010  Both sexes  All ages   \n",
       "\n",
       "                           Incidence and Survival Assumptions  \\\n",
       "Cancer Site                                                     \n",
       "AllSites                  Incidence/Survival at constant rate   \n",
       "AllSites     Incidence follows recent trend/Survival constant   \n",
       "AllSites     Survival follows recent trend/Incidence constant   \n",
       "AllSites              Incidence/Survival follow recent trends   \n",
       "AllSites              Incidence/Survival follow recent trends   \n",
       "\n",
       "            Annual Cost Increase (applied to initial and last phases)  \\\n",
       "Cancer Site                                                             \n",
       "AllSites                                                    0%          \n",
       "AllSites                                                    0%          \n",
       "AllSites                                                    0%          \n",
       "AllSites                                                    0%          \n",
       "AllSites                                                    2%          \n",
       "\n",
       "             Total Costs  Initial Year After Diagnosis Cost  \\\n",
       "Cancer Site                                                   \n",
       "AllSites        124565.6                            40463.5   \n",
       "AllSites        122420.8                            38552.7   \n",
       "AllSites        125397.7                            40463.5   \n",
       "AllSites        123236.3                            38552.7   \n",
       "AllSites        123236.3                            38552.7   \n",
       "\n",
       "             Continuing Phase Cost  Last Year of Life Cost  \\\n",
       "Cancer Site                                                  \n",
       "AllSites                   46642.8                 37459.2   \n",
       "AllSites                   46671.9                 37196.3   \n",
       "AllSites                   47136.3                 37797.9   \n",
       "AllSites                   47155.7                 37527.8   \n",
       "AllSites                   47155.7                 37527.8   \n",
       "\n",
       "             Standard Deviation for all Initial, Continuing, and Last year  \\\n",
       "Cancer Site                                                                  \n",
       "AllSites                                           4682.379665               \n",
       "AllSites                                           5124.259702               \n",
       "AllSites                                           4810.360308               \n",
       "AllSites                                           5287.697789               \n",
       "AllSites                                           5287.697789               \n",
       "\n",
       "             Initial Cost Exceeds Last Year of Life  \n",
       "Cancer Site                                          \n",
       "AllSites                                       True  \n",
       "AllSites                                       True  \n",
       "AllSites                                       True  \n",
       "AllSites                                       True  \n",
       "AllSites                                       True  "
      ]
     },
     "execution_count": 20,
     "metadata": {},
     "output_type": "execute_result"
    }
   ],
   "source": [
    "df.head()"
   ]
  },
  {
   "cell_type": "markdown",
   "metadata": {},
   "source": [
    "#### Select a subset of rows from your dataset, and save it in a separate file as CSV or another format (see Ch 6)"
   ]
  },
  {
   "cell_type": "code",
   "execution_count": 21,
   "metadata": {},
   "outputs": [],
   "source": [
    "#Subset of rows ~ come back to this"
   ]
  },
  {
   "cell_type": "markdown",
   "metadata": {},
   "source": [
    "#### Count the missing values in your dataset and indicate how many in rows and columns indicate how many in rows and columns:\n",
    " DataFrame.isnull() detects missing values returns True or False.\n",
    " DataFrame.sum() returns the sum of the values for the requested axis.\n",
    " "
   ]
  },
  {
   "cell_type": "code",
   "execution_count": 22,
   "metadata": {},
   "outputs": [
    {
     "name": "stdout",
     "output_type": "stream",
     "text": [
      "Missing values are: \n",
      "\n",
      "                Year    Sex    Age  Incidence and Survival Assumptions  \\\n",
      "Cancer Site                                                            \n",
      "AllSites     False  False  False                               False   \n",
      "AllSites     False  False  False                               False   \n",
      "AllSites     False  False  False                               False   \n",
      "AllSites     False  False  False                               False   \n",
      "AllSites     False  False  False                               False   \n",
      "...            ...    ...    ...                                 ...   \n",
      "Other        False  False  False                               False   \n",
      "Other        False  False  False                               False   \n",
      "Other        False  False  False                               False   \n",
      "Other        False  False  False                               False   \n",
      "Other        False  False  False                               False   \n",
      "\n",
      "             Annual Cost Increase (applied to initial and last phases)  \\\n",
      "Cancer Site                                                              \n",
      "AllSites                                                 False           \n",
      "AllSites                                                 False           \n",
      "AllSites                                                 False           \n",
      "AllSites                                                 False           \n",
      "AllSites                                                 False           \n",
      "...                                                        ...           \n",
      "Other                                                    False           \n",
      "Other                                                    False           \n",
      "Other                                                    False           \n",
      "Other                                                    False           \n",
      "Other                                                    False           \n",
      "\n",
      "             Total Costs  Initial Year After Diagnosis Cost  \\\n",
      "Cancer Site                                                   \n",
      "AllSites           False                              False   \n",
      "AllSites           False                              False   \n",
      "AllSites           False                              False   \n",
      "AllSites           False                              False   \n",
      "AllSites           False                              False   \n",
      "...                  ...                                ...   \n",
      "Other              False                              False   \n",
      "Other              False                              False   \n",
      "Other              False                              False   \n",
      "Other              False                              False   \n",
      "Other              False                              False   \n",
      "\n",
      "             Continuing Phase Cost  Last Year of Life Cost  \\\n",
      "Cancer Site                                                  \n",
      "AllSites                     False                   False   \n",
      "AllSites                     False                   False   \n",
      "AllSites                     False                   False   \n",
      "AllSites                     False                   False   \n",
      "AllSites                     False                   False   \n",
      "...                            ...                     ...   \n",
      "Other                        False                   False   \n",
      "Other                        False                   False   \n",
      "Other                        False                   False   \n",
      "Other                        False                   False   \n",
      "Other                        False                   False   \n",
      "\n",
      "             Standard Deviation for all Initial, Continuing, and Last year  \\\n",
      "Cancer Site                                                                  \n",
      "AllSites                                                 False               \n",
      "AllSites                                                 False               \n",
      "AllSites                                                 False               \n",
      "AllSites                                                 False               \n",
      "AllSites                                                 False               \n",
      "...                                                        ...               \n",
      "Other                                                    False               \n",
      "Other                                                    False               \n",
      "Other                                                    False               \n",
      "Other                                                    False               \n",
      "Other                                                    False               \n",
      "\n",
      "             Initial Cost Exceeds Last Year of Life  \n",
      "Cancer Site                                          \n",
      "AllSites                                      False  \n",
      "AllSites                                      False  \n",
      "AllSites                                      False  \n",
      "AllSites                                      False  \n",
      "AllSites                                      False  \n",
      "...                                             ...  \n",
      "Other                                         False  \n",
      "Other                                         False  \n",
      "Other                                         False  \n",
      "Other                                         False  \n",
      "Other                                         False  \n",
      "\n",
      "[1254 rows x 11 columns]\n"
     ]
    }
   ],
   "source": [
    "print(\"Missing values are: \\n\\n \", df.isnull())"
   ]
  },
  {
   "cell_type": "code",
   "execution_count": 23,
   "metadata": {},
   "outputs": [
    {
     "name": "stdout",
     "output_type": "stream",
     "text": [
      "Count of the total of the missing values are for each of the columns: \n",
      " \n",
      "  Year                                                             0\n",
      "Sex                                                              0\n",
      "Age                                                              0\n",
      "Incidence and Survival Assumptions                               0\n",
      "Annual Cost Increase (applied to initial and last phases)        0\n",
      "Total Costs                                                      0\n",
      "Initial Year After Diagnosis Cost                                0\n",
      "Continuing Phase Cost                                            0\n",
      "Last Year of Life Cost                                           0\n",
      "Standard Deviation for all Initial, Continuing, and Last year    0\n",
      "Initial Cost Exceeds Last Year of Life                           0\n",
      "dtype: int64\n"
     ]
    }
   ],
   "source": [
    "print(\"Count of the total of the missing values are for each of the columns: \\n \\n \", df.isnull().sum())"
   ]
  },
  {
   "cell_type": "code",
   "execution_count": 52,
   "metadata": {},
   "outputs": [
    {
     "name": "stdout",
     "output_type": "stream",
     "text": [
      "Count of the total of the missing values are for each of the rows: \n",
      " \n",
      "  1254 : 0\n"
     ]
    }
   ],
   "source": [
    "#for i in range(len(df.index)):\n",
    "\n",
    "print(\"Count of the total of the missing values are for each of the rows: \\n \\n \", i + 1, \":\" , df.iloc[i].isnull().sum())"
   ]
  },
  {
   "cell_type": "markdown",
   "metadata": {},
   "source": [
    "#### Remove rows or columns of missing values from your dataset:\n",
    "DataFrame.dropna(self, axis=0, how='any', thresh=None, subset=None, inplace=False)\n"
   ]
  },
  {
   "cell_type": "code",
   "execution_count": 25,
   "metadata": {},
   "outputs": [
    {
     "name": "stdout",
     "output_type": "stream",
     "text": [
      "removes NaN values from columns: \n",
      "removes NaN values from rows: \n"
     ]
    },
    {
     "data": {
      "text/plain": [
       "(None,\n",
       "              Year         Sex       Age  \\\n",
       " Cancer Site                               \n",
       " AllSites     2010  Both sexes  All ages   \n",
       " AllSites     2010  Both sexes  All ages   \n",
       " AllSites     2010  Both sexes  All ages   \n",
       " AllSites     2010  Both sexes  All ages   \n",
       " AllSites     2010  Both sexes  All ages   \n",
       " ...           ...         ...       ...   \n",
       " Other        2020  Both sexes  All ages   \n",
       " Other        2020  Both sexes  All ages   \n",
       " Other        2020  Both sexes  All ages   \n",
       " Other        2020  Both sexes  All ages   \n",
       " Other        2020  Both sexes  All ages   \n",
       " \n",
       "                            Incidence and Survival Assumptions  \\\n",
       " Cancer Site                                                     \n",
       " AllSites                  Incidence/Survival at constant rate   \n",
       " AllSites     Incidence follows recent trend/Survival constant   \n",
       " AllSites     Survival follows recent trend/Incidence constant   \n",
       " AllSites              Incidence/Survival follow recent trends   \n",
       " AllSites              Incidence/Survival follow recent trends   \n",
       " ...                                                       ...   \n",
       " Other        Incidence follows recent trend/Survival constant   \n",
       " Other        Survival follows recent trend/Incidence constant   \n",
       " Other                 Incidence/Survival follow recent trends   \n",
       " Other                 Incidence/Survival follow recent trends   \n",
       " Other                 Incidence/Survival follow recent trends   \n",
       " \n",
       "             Annual Cost Increase (applied to initial and last phases)  \\\n",
       " Cancer Site                                                             \n",
       " AllSites                                                    0%          \n",
       " AllSites                                                    0%          \n",
       " AllSites                                                    0%          \n",
       " AllSites                                                    0%          \n",
       " AllSites                                                    2%          \n",
       " ...                                                        ...          \n",
       " Other                                                       0%          \n",
       " Other                                                       0%          \n",
       " Other                                                       0%          \n",
       " Other                                                       2%          \n",
       " Other                                                       5%          \n",
       " \n",
       "              Total Costs  Initial Year After Diagnosis Cost  \\\n",
       " Cancer Site                                                   \n",
       " AllSites        124565.6                            40463.5   \n",
       " AllSites        122420.8                            38552.7   \n",
       " AllSites        125397.7                            40463.5   \n",
       " AllSites        123236.3                            38552.7   \n",
       " AllSites        123236.3                            38552.7   \n",
       " ...                  ...                                ...   \n",
       " Other            26945.7                             4432.4   \n",
       " Other            29975.9                             4466.2   \n",
       " Other            30892.3                             4432.4   \n",
       " Other            33201.2                             5403.1   \n",
       " Other            37522.8                             7219.9   \n",
       " \n",
       "              Continuing Phase Cost  Last Year of Life Cost  \\\n",
       " Cancer Site                                                  \n",
       " AllSites                   46642.8                 37459.2   \n",
       " AllSites                   46671.9                 37196.3   \n",
       " AllSites                   47136.3                 37797.9   \n",
       " AllSites                   47155.7                 37527.8   \n",
       " AllSites                   47155.7                 37527.8   \n",
       " ...                            ...                     ...   \n",
       " Other                      14156.5                  8356.8   \n",
       " Other                      17675.7                  7834.0   \n",
       " Other                      17275.7                  9184.3   \n",
       " Other                      17275.7                 10522.5   \n",
       " Other                      17275.7                 13027.2   \n",
       " \n",
       "              Standard Deviation for all Initial, Continuing, and Last year  \\\n",
       " Cancer Site                                                                  \n",
       " AllSites                                           4682.379665               \n",
       " AllSites                                           5124.259702               \n",
       " AllSites                                           4810.360308               \n",
       " AllSites                                           5287.697789               \n",
       " AllSites                                           5287.697789               \n",
       " ...                                                        ...               \n",
       " Other                                              4892.094920               \n",
       " Other                                              6864.061310               \n",
       " Other                                              6493.607914               \n",
       " Other                                              5955.006260               \n",
       " Other                                              5047.996289               \n",
       " \n",
       "              Initial Cost Exceeds Last Year of Life  \n",
       " Cancer Site                                          \n",
       " AllSites                                       True  \n",
       " AllSites                                       True  \n",
       " AllSites                                       True  \n",
       " AllSites                                       True  \n",
       " AllSites                                       True  \n",
       " ...                                             ...  \n",
       " Other                                         False  \n",
       " Other                                         False  \n",
       " Other                                         False  \n",
       " Other                                         False  \n",
       " Other                                         False  \n",
       " \n",
       " [1254 rows x 11 columns])"
      ]
     },
     "execution_count": 25,
     "metadata": {},
     "output_type": "execute_result"
    }
   ],
   "source": [
    "print(\"removes NaN values from columns: \"), df.dropna(axis ='columns', thresh=2)\n",
    "print(\"removes NaN values from rows: \"), df.dropna(thresh=2)"
   ]
  },
  {
   "cell_type": "markdown",
   "metadata": {},
   "source": [
    "#### Replace missing values in one column or row with a specified value ~ This does not work for my dataset since it does not contain misssing values and I would like to maintain the integrity of the data."
   ]
  },
  {
   "cell_type": "markdown",
   "metadata": {},
   "source": [
    "## Make the following graphs, but make sure they have proper axis labels and titles:"
   ]
  },
  {
   "cell_type": "markdown",
   "metadata": {},
   "source": [
    "1. Select three numerical columns and display their distributions by bar plotting. You can either use the hist() method in matplotlib or the output of the value_counts() method in pandas"
   ]
  },
  {
   "cell_type": "code",
   "execution_count": 26,
   "metadata": {},
   "outputs": [
    {
     "data": {
      "text/html": [
       "<div>\n",
       "<style scoped>\n",
       "    .dataframe tbody tr th:only-of-type {\n",
       "        vertical-align: middle;\n",
       "    }\n",
       "\n",
       "    .dataframe tbody tr th {\n",
       "        vertical-align: top;\n",
       "    }\n",
       "\n",
       "    .dataframe thead th {\n",
       "        text-align: right;\n",
       "    }\n",
       "</style>\n",
       "<table border=\"1\" class=\"dataframe\">\n",
       "  <thead>\n",
       "    <tr style=\"text-align: right;\">\n",
       "      <th></th>\n",
       "      <th>Year</th>\n",
       "      <th>Sex</th>\n",
       "      <th>Age</th>\n",
       "      <th>Incidence and Survival Assumptions</th>\n",
       "      <th>Annual Cost Increase (applied to initial and last phases)</th>\n",
       "      <th>Total Costs</th>\n",
       "      <th>Initial Year After Diagnosis Cost</th>\n",
       "      <th>Continuing Phase Cost</th>\n",
       "      <th>Last Year of Life Cost</th>\n",
       "      <th>Standard Deviation for all Initial, Continuing, and Last year</th>\n",
       "      <th>Initial Cost Exceeds Last Year of Life</th>\n",
       "    </tr>\n",
       "    <tr>\n",
       "      <th>Cancer Site</th>\n",
       "      <th></th>\n",
       "      <th></th>\n",
       "      <th></th>\n",
       "      <th></th>\n",
       "      <th></th>\n",
       "      <th></th>\n",
       "      <th></th>\n",
       "      <th></th>\n",
       "      <th></th>\n",
       "      <th></th>\n",
       "      <th></th>\n",
       "    </tr>\n",
       "  </thead>\n",
       "  <tbody>\n",
       "    <tr>\n",
       "      <th>AllSites</th>\n",
       "      <td>2010</td>\n",
       "      <td>Both sexes</td>\n",
       "      <td>All ages</td>\n",
       "      <td>Incidence/Survival at constant rate</td>\n",
       "      <td>0%</td>\n",
       "      <td>124565.6</td>\n",
       "      <td>40463.5</td>\n",
       "      <td>46642.8</td>\n",
       "      <td>37459.2</td>\n",
       "      <td>4682.379665</td>\n",
       "      <td>True</td>\n",
       "    </tr>\n",
       "    <tr>\n",
       "      <th>AllSites</th>\n",
       "      <td>2010</td>\n",
       "      <td>Both sexes</td>\n",
       "      <td>All ages</td>\n",
       "      <td>Incidence follows recent trend/Survival constant</td>\n",
       "      <td>0%</td>\n",
       "      <td>122420.8</td>\n",
       "      <td>38552.7</td>\n",
       "      <td>46671.9</td>\n",
       "      <td>37196.3</td>\n",
       "      <td>5124.259702</td>\n",
       "      <td>True</td>\n",
       "    </tr>\n",
       "    <tr>\n",
       "      <th>AllSites</th>\n",
       "      <td>2010</td>\n",
       "      <td>Both sexes</td>\n",
       "      <td>All ages</td>\n",
       "      <td>Survival follows recent trend/Incidence constant</td>\n",
       "      <td>0%</td>\n",
       "      <td>125397.7</td>\n",
       "      <td>40463.5</td>\n",
       "      <td>47136.3</td>\n",
       "      <td>37797.9</td>\n",
       "      <td>4810.360308</td>\n",
       "      <td>True</td>\n",
       "    </tr>\n",
       "    <tr>\n",
       "      <th>AllSites</th>\n",
       "      <td>2010</td>\n",
       "      <td>Both sexes</td>\n",
       "      <td>All ages</td>\n",
       "      <td>Incidence/Survival follow recent trends</td>\n",
       "      <td>0%</td>\n",
       "      <td>123236.3</td>\n",
       "      <td>38552.7</td>\n",
       "      <td>47155.7</td>\n",
       "      <td>37527.8</td>\n",
       "      <td>5287.697789</td>\n",
       "      <td>True</td>\n",
       "    </tr>\n",
       "    <tr>\n",
       "      <th>AllSites</th>\n",
       "      <td>2010</td>\n",
       "      <td>Both sexes</td>\n",
       "      <td>All ages</td>\n",
       "      <td>Incidence/Survival follow recent trends</td>\n",
       "      <td>2%</td>\n",
       "      <td>123236.3</td>\n",
       "      <td>38552.7</td>\n",
       "      <td>47155.7</td>\n",
       "      <td>37527.8</td>\n",
       "      <td>5287.697789</td>\n",
       "      <td>True</td>\n",
       "    </tr>\n",
       "  </tbody>\n",
       "</table>\n",
       "</div>"
      ],
      "text/plain": [
       "             Year         Sex       Age  \\\n",
       "Cancer Site                               \n",
       "AllSites     2010  Both sexes  All ages   \n",
       "AllSites     2010  Both sexes  All ages   \n",
       "AllSites     2010  Both sexes  All ages   \n",
       "AllSites     2010  Both sexes  All ages   \n",
       "AllSites     2010  Both sexes  All ages   \n",
       "\n",
       "                           Incidence and Survival Assumptions  \\\n",
       "Cancer Site                                                     \n",
       "AllSites                  Incidence/Survival at constant rate   \n",
       "AllSites     Incidence follows recent trend/Survival constant   \n",
       "AllSites     Survival follows recent trend/Incidence constant   \n",
       "AllSites              Incidence/Survival follow recent trends   \n",
       "AllSites              Incidence/Survival follow recent trends   \n",
       "\n",
       "            Annual Cost Increase (applied to initial and last phases)  \\\n",
       "Cancer Site                                                             \n",
       "AllSites                                                    0%          \n",
       "AllSites                                                    0%          \n",
       "AllSites                                                    0%          \n",
       "AllSites                                                    0%          \n",
       "AllSites                                                    2%          \n",
       "\n",
       "             Total Costs  Initial Year After Diagnosis Cost  \\\n",
       "Cancer Site                                                   \n",
       "AllSites        124565.6                            40463.5   \n",
       "AllSites        122420.8                            38552.7   \n",
       "AllSites        125397.7                            40463.5   \n",
       "AllSites        123236.3                            38552.7   \n",
       "AllSites        123236.3                            38552.7   \n",
       "\n",
       "             Continuing Phase Cost  Last Year of Life Cost  \\\n",
       "Cancer Site                                                  \n",
       "AllSites                   46642.8                 37459.2   \n",
       "AllSites                   46671.9                 37196.3   \n",
       "AllSites                   47136.3                 37797.9   \n",
       "AllSites                   47155.7                 37527.8   \n",
       "AllSites                   47155.7                 37527.8   \n",
       "\n",
       "             Standard Deviation for all Initial, Continuing, and Last year  \\\n",
       "Cancer Site                                                                  \n",
       "AllSites                                           4682.379665               \n",
       "AllSites                                           5124.259702               \n",
       "AllSites                                           4810.360308               \n",
       "AllSites                                           5287.697789               \n",
       "AllSites                                           5287.697789               \n",
       "\n",
       "             Initial Cost Exceeds Last Year of Life  \n",
       "Cancer Site                                          \n",
       "AllSites                                       True  \n",
       "AllSites                                       True  \n",
       "AllSites                                       True  \n",
       "AllSites                                       True  \n",
       "AllSites                                       True  "
      ]
     },
     "execution_count": 26,
     "metadata": {},
     "output_type": "execute_result"
    }
   ],
   "source": [
    "df.head()"
   ]
  },
  {
   "cell_type": "code",
   "execution_count": 27,
   "metadata": {},
   "outputs": [
    {
     "data": {
      "text/plain": [
       "Text(0, 0.5, 'Search Frequency')"
      ]
     },
     "execution_count": 27,
     "metadata": {},
     "output_type": "execute_result"
    },
    {
     "data": {
      "image/png": "[encoded data removed]",
      "text/plain": [
       "<Figure size 432x288 with 1 Axes>"
      ]
     },
     "metadata": {
      "needs_background": "light"
     },
     "output_type": "display_data"
    }
   ],
   "source": [
    "import matplotlib.pyplot as plt\n",
    "slice = df[['Initial Year After Diagnosis Cost', 'Continuing Phase Cost','Last Year of Life Cost']]\n",
    "\n",
    "#The number of rows that match a certain price by stage of treatment.\n",
    "graph = slice.plot.hist()\n",
    "graph.set_title('Cost by Phase')\n",
    "graph.set_xlabel('Cost')\n",
    "graph.set_ylabel('Search Frequency')\n",
    "\n",
    "\n"
   ]
  },
  {
   "cell_type": "markdown",
   "metadata": {},
   "source": [
    "2. Arrange the previous set of plots into vertically-aligned subplots of one figure.\n"
   ]
  },
  {
   "cell_type": "code",
   "execution_count": 28,
   "metadata": {},
   "outputs": [
    {
     "data": {
      "text/plain": [
       "Text(0.5, 0.98, 'Vertically aligned subplots of Treatment Cost')"
      ]
     },
     "execution_count": 28,
     "metadata": {},
     "output_type": "execute_result"
    },
    {
     "data": {
      "image/png": "[encoded data removed]",
      "text/plain": [
       "<Figure size 432x288 with 2 Axes>"
      ]
     },
     "metadata": {
      "needs_background": "light"
     },
     "output_type": "display_data"
    }
   ],
   "source": [
    "# come back to this\n",
    "\n",
    "import matplotlib.pyplot as plt\n",
    "\n",
    "slice1 = df[['Initial Year After Diagnosis Cost']]\n",
    "slice2 = df[['Continuing Phase Cost']]\n",
    "slice3 = df[['Last Year of Life Cost']]\n",
    "\n",
    "# graph = slice.add_subplot()\n",
    "# graph.set_title('Cost by Phase')\n",
    "\n",
    "fig, slice1 = plt.subplots(2)\n",
    "\n",
    "fig.suptitle('Vertically aligned subplots of Treatment Cost')\n",
    "#fig.set_xlabel('Cost')\n",
    "#fig.set_ylabel('Search Frequency')"
   ]
  },
  {
   "cell_type": "markdown",
   "metadata": {},
   "source": [
    "3. Select two numerical columns and plot a line graph showing the relationship between them. (use markers or make a scatter plot)"
   ]
  },
  {
   "cell_type": "code",
   "execution_count": 29,
   "metadata": {},
   "outputs": [
    {
     "data": {
      "image/png": "[encoded data removed]",
      "text/plain": [
       "<Figure size 432x288 with 1 Axes>"
      ]
     },
     "metadata": {
      "needs_background": "light"
     },
     "output_type": "display_data"
    }
   ],
   "source": [
    "slice = df[['Initial Year After Diagnosis Cost', 'Last Year of Life Cost']]\n",
    "graph = slice.plot.scatter(x = 'Last Year of Life Cost', y= 'Initial Year After Diagnosis Cost')\n"
   ]
  },
  {
   "cell_type": "markdown",
   "metadata": {},
   "source": [
    "4. Select more than two numerical columns and plot a multi-line graph with different markers/colors comparing them (see matplotlib.pylot.plot for list of markers). Use different row subsets if you don't have enough columns to compare. Show a legend. Add a text annotation.\n",
    "\n"
   ]
  },
  {
   "cell_type": "markdown",
   "metadata": {},
   "source": [
    "The data is grouped by index, 'Cancer Site' (this is both an index and a column),so that the three numerical columns being compared (initial, continuous and final cost) are organized in terms of cancer location. \n",
    "\n",
    "\n",
    "We then take the average cost for each group, using the mean()function.This is so that the avergae price for each group is what is being evaluated.\n",
    "We are sorting in acending order according to the total cost.\n",
    "A friend suggested it would be a great idea that the data be sorted in descending order based on the total cost of the procedure. I used this idea and organized it in terms of ascending order by total cost.\n",
    "\n",
    "\n",
    "We rotate the x axis by 45, and adjust the size of the graph using sizefig, so that the labels/graphs won't overlap. Similarly, the function plt.xticks(size, labels)  makes all of the labels on the x axis readable (on trial 1 it would condense it so not all of them showed.)\n"
   ]
  },
  {
   "cell_type": "code",
   "execution_count": 47,
   "metadata": {
    "scrolled": true
   },
   "outputs": [
    {
     "data": {
      "image/png": "[encoded data removed]",
      "text/plain": [
       "<Figure size 720x360 with 1 Axes>"
      ]
     },
     "metadata": {
      "needs_background": "light"
     },
     "output_type": "display_data"
    }
   ],
   "source": [
    "import numpy as np\n",
    "\n",
    "####Trial 2\n",
    "phaseCostGraph = df.groupby('Cancer Site').mean()[['Initial Year After Diagnosis Cost','Continuing Phase Cost','Last Year of Life Cost', 'Total Costs']].sort_values('Total Costs', ascending=True).drop('Total Costs', axis=1)\n",
    "\n",
    "#adjust how data is displayed\n",
    "phaseCostGraph.plot.bar(rot=45, figsize=(10, 5))\n",
    "plt.xticks(np.arange(len(phaseCostGraph.index)), phaseCostGraph.index)\n",
    "plt.show()\n",
    "\n",
    "\n",
    "##### Trial 1\n",
    "#slice = df[['Initial Year After Diagnosis Cost','Continuing Phase Cost','Last Year of Life Cost']]\n",
    "# graph = df['Initial Year After Diagnosis Cost'].plot(\n",
    "#     kind='line',\n",
    "#     marker='*',\n",
    "#     legend=True,\n",
    "#     figsize=(10,5),\n",
    "#     label='Initial Year After Diagnosis Cost')\n",
    "# df['Continuing Phase Cost'].plot(\n",
    "#     kind='line',\n",
    "#     ax=graph,\n",
    "#     marker='h',\n",
    "#     legend=True,\n",
    "#     label='Continuing Phase Cost')\n",
    "# df['Last Year of Life Cost'].plot(\n",
    "#     kind='line',\n",
    "#     ax=graph,\n",
    "#     marker='o',\n",
    "#     legend=True,\n",
    "#     label='Last Year of Life Cost')\n",
    "\n",
    "# graph.set_title('Cost by Stage')\n",
    "# graph"
   ]
  },
  {
   "cell_type": "markdown",
   "metadata": {},
   "source": [
    "5. Select a categorical (text) column and another numerical column, set the dataframe index to the categorical column and display a bar plot of the numerical column where the x-axis labels show the categories.\n",
    "\n",
    "My index has already been set to a categorical column in earlier stages of this project. As it stands, the index is the column 'Cancer Site'."
   ]
  },
  {
   "cell_type": "code",
   "execution_count": 59,
   "metadata": {
    "scrolled": true
   },
   "outputs": [
    {
     "data": {
      "image/png": "[encoded data removed]",
      "text/plain": [
       "<Figure size 720x360 with 1 Axes>"
      ]
     },
     "metadata": {
      "needs_background": "light"
     },
     "output_type": "display_data"
    }
   ],
   "source": [
    "import numpy as np\n",
    "                   \n",
    "graph = df.groupby('Cancer Site').mean()['Last Year of Life Cost'].drop('AllSites')\n",
    "                   \n",
    "#adjust how data is displayed\n",
    "graph.plot.bar(rot=45, figsize=(10, 5))\n",
    "plt.xticks(np.arange(len(graph.index)), graph.index)\n",
    "plt.show()\n"
   ]
  },
  {
   "cell_type": "code",
   "execution_count": null,
   "metadata": {},
   "outputs": [],
   "source": []
  },
  {
   "cell_type": "markdown",
   "metadata": {},
   "source": [
    "6. Save one of your figures as a png file."
   ]
  },
  {
   "cell_type": "code",
   "execution_count": null,
   "metadata": {},
   "outputs": [],
   "source": []
  },
  {
   "cell_type": "code",
   "execution_count": null,
   "metadata": {},
   "outputs": [],
   "source": []
  },
  {
   "cell_type": "markdown",
   "metadata": {},
   "source": [
    "Im driving myself insanse running in a loop. \n",
    "Does it make sense to do that or Im I jumping the gun\n",
    "I need to get a good night sleep\n",
    "\n",
    "\n",
    "- merge branches and sort through changes\n",
    "     - Get deliverables and manual done today (R)\n",
    "     - comment source code and turn it in (R)\n",
    "- take exam (R)\n",
    "- show up to class \n",
    "- email verification"
   ]
  },
  {
   "cell_type": "code",
   "execution_count": null,
   "metadata": {},
   "outputs": [],
   "source": []
  }
 ],
 "metadata": {
  "kernelspec": {
   "display_name": "Python 3",
   "language": "python",
   "name": "python3"
  },
  "language_info": {
   "codemirror_mode": {
    "name": "ipython",
    "version": 3
   },
   "file_extension": ".py",
   "mimetype": "text/x-python",
   "name": "python",
   "nbconvert_exporter": "python",
   "pygments_lexer": "ipython3",
   "version": "3.8.5"
  }
 },
 "nbformat": 4,
 "nbformat_minor": 4
}
